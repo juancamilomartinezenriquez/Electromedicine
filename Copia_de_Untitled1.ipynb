{
  "nbformat": 4,
  "nbformat_minor": 0,
  "metadata": {
    "colab": {
      "provenance": [],
      "authorship_tag": "ABX9TyPirXT69q0VDCBckGvhSngi",
      "include_colab_link": true
    },
    "kernelspec": {
      "name": "python3",
      "display_name": "Python 3"
    },
    "language_info": {
      "name": "python"
    }
  },
  "cells": [
    {
      "cell_type": "markdown",
      "metadata": {
        "id": "view-in-github",
        "colab_type": "text"
      },
      "source": [
        "<a href=\"https://colab.research.google.com/github/juancamilomartinezenriquez/Electromedicine/blob/main/Copia_de_Untitled1.ipynb\" target=\"_parent\"><img src=\"https://colab.research.google.com/assets/colab-badge.svg\" alt=\"Open In Colab\"/></a>"
      ]
    },
    {
      "cell_type": "code",
      "execution_count": null,
      "metadata": {
        "id": "xxE4h07In5Q9"
      },
      "outputs": [],
      "source": [
        "import numpy as np\n",
        "import matplotlib.pyplot as plt\n",
        "import pandas as pd"
      ]
    },
    {
      "cell_type": "code",
      "source": [
        "dataset = pd.read_csv('Churn_Modelling.csv')\n",
        "dataset.head()"
      ],
      "metadata": {
        "colab": {
          "base_uri": "https://localhost:8080/",
          "height": 206
        },
        "id": "ybLleUQPn5xi",
        "outputId": "ec81924b-1754-42c0-cb29-2a9ad7b9440a"
      },
      "execution_count": null,
      "outputs": [
        {
          "output_type": "execute_result",
          "data": {
            "text/plain": [
              "   RowNumber  CustomerId   Surname  CreditScore Geography  Gender  Age  \\\n",
              "0          1    15634602  Hargrave          619    France  Female   42   \n",
              "1          2    15647311      Hill          608     Spain  Female   41   \n",
              "2          3    15619304      Onio          502    France  Female   42   \n",
              "3          4    15701354      Boni          699    France  Female   39   \n",
              "4          5    15737888  Mitchell          850     Spain  Female   43   \n",
              "\n",
              "   Tenure    Balance  NumOfProducts  HasCrCard  IsActiveMember  \\\n",
              "0       2       0.00              1          1               1   \n",
              "1       1   83807.86              1          0               1   \n",
              "2       8  159660.80              3          1               0   \n",
              "3       1       0.00              2          0               0   \n",
              "4       2  125510.82              1          1               1   \n",
              "\n",
              "   EstimatedSalary  Exited  \n",
              "0        101348.88       1  \n",
              "1        112542.58       0  \n",
              "2        113931.57       1  \n",
              "3         93826.63       0  \n",
              "4         79084.10       0  "
            ],
            "text/html": [
              "\n",
              "  <div id=\"df-608d73d6-4c0f-4815-bd1a-d933438589af\" class=\"colab-df-container\">\n",
              "    <div>\n",
              "<style scoped>\n",
              "    .dataframe tbody tr th:only-of-type {\n",
              "        vertical-align: middle;\n",
              "    }\n",
              "\n",
              "    .dataframe tbody tr th {\n",
              "        vertical-align: top;\n",
              "    }\n",
              "\n",
              "    .dataframe thead th {\n",
              "        text-align: right;\n",
              "    }\n",
              "</style>\n",
              "<table border=\"1\" class=\"dataframe\">\n",
              "  <thead>\n",
              "    <tr style=\"text-align: right;\">\n",
              "      <th></th>\n",
              "      <th>RowNumber</th>\n",
              "      <th>CustomerId</th>\n",
              "      <th>Surname</th>\n",
              "      <th>CreditScore</th>\n",
              "      <th>Geography</th>\n",
              "      <th>Gender</th>\n",
              "      <th>Age</th>\n",
              "      <th>Tenure</th>\n",
              "      <th>Balance</th>\n",
              "      <th>NumOfProducts</th>\n",
              "      <th>HasCrCard</th>\n",
              "      <th>IsActiveMember</th>\n",
              "      <th>EstimatedSalary</th>\n",
              "      <th>Exited</th>\n",
              "    </tr>\n",
              "  </thead>\n",
              "  <tbody>\n",
              "    <tr>\n",
              "      <th>0</th>\n",
              "      <td>1</td>\n",
              "      <td>15634602</td>\n",
              "      <td>Hargrave</td>\n",
              "      <td>619</td>\n",
              "      <td>France</td>\n",
              "      <td>Female</td>\n",
              "      <td>42</td>\n",
              "      <td>2</td>\n",
              "      <td>0.00</td>\n",
              "      <td>1</td>\n",
              "      <td>1</td>\n",
              "      <td>1</td>\n",
              "      <td>101348.88</td>\n",
              "      <td>1</td>\n",
              "    </tr>\n",
              "    <tr>\n",
              "      <th>1</th>\n",
              "      <td>2</td>\n",
              "      <td>15647311</td>\n",
              "      <td>Hill</td>\n",
              "      <td>608</td>\n",
              "      <td>Spain</td>\n",
              "      <td>Female</td>\n",
              "      <td>41</td>\n",
              "      <td>1</td>\n",
              "      <td>83807.86</td>\n",
              "      <td>1</td>\n",
              "      <td>0</td>\n",
              "      <td>1</td>\n",
              "      <td>112542.58</td>\n",
              "      <td>0</td>\n",
              "    </tr>\n",
              "    <tr>\n",
              "      <th>2</th>\n",
              "      <td>3</td>\n",
              "      <td>15619304</td>\n",
              "      <td>Onio</td>\n",
              "      <td>502</td>\n",
              "      <td>France</td>\n",
              "      <td>Female</td>\n",
              "      <td>42</td>\n",
              "      <td>8</td>\n",
              "      <td>159660.80</td>\n",
              "      <td>3</td>\n",
              "      <td>1</td>\n",
              "      <td>0</td>\n",
              "      <td>113931.57</td>\n",
              "      <td>1</td>\n",
              "    </tr>\n",
              "    <tr>\n",
              "      <th>3</th>\n",
              "      <td>4</td>\n",
              "      <td>15701354</td>\n",
              "      <td>Boni</td>\n",
              "      <td>699</td>\n",
              "      <td>France</td>\n",
              "      <td>Female</td>\n",
              "      <td>39</td>\n",
              "      <td>1</td>\n",
              "      <td>0.00</td>\n",
              "      <td>2</td>\n",
              "      <td>0</td>\n",
              "      <td>0</td>\n",
              "      <td>93826.63</td>\n",
              "      <td>0</td>\n",
              "    </tr>\n",
              "    <tr>\n",
              "      <th>4</th>\n",
              "      <td>5</td>\n",
              "      <td>15737888</td>\n",
              "      <td>Mitchell</td>\n",
              "      <td>850</td>\n",
              "      <td>Spain</td>\n",
              "      <td>Female</td>\n",
              "      <td>43</td>\n",
              "      <td>2</td>\n",
              "      <td>125510.82</td>\n",
              "      <td>1</td>\n",
              "      <td>1</td>\n",
              "      <td>1</td>\n",
              "      <td>79084.10</td>\n",
              "      <td>0</td>\n",
              "    </tr>\n",
              "  </tbody>\n",
              "</table>\n",
              "</div>\n",
              "    <div class=\"colab-df-buttons\">\n",
              "\n",
              "  <div class=\"colab-df-container\">\n",
              "    <button class=\"colab-df-convert\" onclick=\"convertToInteractive('df-608d73d6-4c0f-4815-bd1a-d933438589af')\"\n",
              "            title=\"Convert this dataframe to an interactive table.\"\n",
              "            style=\"display:none;\">\n",
              "\n",
              "  <svg xmlns=\"http://www.w3.org/2000/svg\" height=\"24px\" viewBox=\"0 -960 960 960\">\n",
              "    <path d=\"M120-120v-720h720v720H120Zm60-500h600v-160H180v160Zm220 220h160v-160H400v160Zm0 220h160v-160H400v160ZM180-400h160v-160H180v160Zm440 0h160v-160H620v160ZM180-180h160v-160H180v160Zm440 0h160v-160H620v160Z\"/>\n",
              "  </svg>\n",
              "    </button>\n",
              "\n",
              "  <style>\n",
              "    .colab-df-container {\n",
              "      display:flex;\n",
              "      gap: 12px;\n",
              "    }\n",
              "\n",
              "    .colab-df-convert {\n",
              "      background-color: #E8F0FE;\n",
              "      border: none;\n",
              "      border-radius: 50%;\n",
              "      cursor: pointer;\n",
              "      display: none;\n",
              "      fill: #1967D2;\n",
              "      height: 32px;\n",
              "      padding: 0 0 0 0;\n",
              "      width: 32px;\n",
              "    }\n",
              "\n",
              "    .colab-df-convert:hover {\n",
              "      background-color: #E2EBFA;\n",
              "      box-shadow: 0px 1px 2px rgba(60, 64, 67, 0.3), 0px 1px 3px 1px rgba(60, 64, 67, 0.15);\n",
              "      fill: #174EA6;\n",
              "    }\n",
              "\n",
              "    .colab-df-buttons div {\n",
              "      margin-bottom: 4px;\n",
              "    }\n",
              "\n",
              "    [theme=dark] .colab-df-convert {\n",
              "      background-color: #3B4455;\n",
              "      fill: #D2E3FC;\n",
              "    }\n",
              "\n",
              "    [theme=dark] .colab-df-convert:hover {\n",
              "      background-color: #434B5C;\n",
              "      box-shadow: 0px 1px 3px 1px rgba(0, 0, 0, 0.15);\n",
              "      filter: drop-shadow(0px 1px 2px rgba(0, 0, 0, 0.3));\n",
              "      fill: #FFFFFF;\n",
              "    }\n",
              "  </style>\n",
              "\n",
              "    <script>\n",
              "      const buttonEl =\n",
              "        document.querySelector('#df-608d73d6-4c0f-4815-bd1a-d933438589af button.colab-df-convert');\n",
              "      buttonEl.style.display =\n",
              "        google.colab.kernel.accessAllowed ? 'block' : 'none';\n",
              "\n",
              "      async function convertToInteractive(key) {\n",
              "        const element = document.querySelector('#df-608d73d6-4c0f-4815-bd1a-d933438589af');\n",
              "        const dataTable =\n",
              "          await google.colab.kernel.invokeFunction('convertToInteractive',\n",
              "                                                    [key], {});\n",
              "        if (!dataTable) return;\n",
              "\n",
              "        const docLinkHtml = 'Like what you see? Visit the ' +\n",
              "          '<a target=\"_blank\" href=https://colab.research.google.com/notebooks/data_table.ipynb>data table notebook</a>'\n",
              "          + ' to learn more about interactive tables.';\n",
              "        element.innerHTML = '';\n",
              "        dataTable['output_type'] = 'display_data';\n",
              "        await google.colab.output.renderOutput(dataTable, element);\n",
              "        const docLink = document.createElement('div');\n",
              "        docLink.innerHTML = docLinkHtml;\n",
              "        element.appendChild(docLink);\n",
              "      }\n",
              "    </script>\n",
              "  </div>\n",
              "\n",
              "\n",
              "<div id=\"df-eb7b9c92-30d0-42a9-8bdb-f7c0378df6c7\">\n",
              "  <button class=\"colab-df-quickchart\" onclick=\"quickchart('df-eb7b9c92-30d0-42a9-8bdb-f7c0378df6c7')\"\n",
              "            title=\"Suggest charts.\"\n",
              "            style=\"display:none;\">\n",
              "\n",
              "<svg xmlns=\"http://www.w3.org/2000/svg\" height=\"24px\"viewBox=\"0 0 24 24\"\n",
              "     width=\"24px\">\n",
              "    <g>\n",
              "        <path d=\"M19 3H5c-1.1 0-2 .9-2 2v14c0 1.1.9 2 2 2h14c1.1 0 2-.9 2-2V5c0-1.1-.9-2-2-2zM9 17H7v-7h2v7zm4 0h-2V7h2v10zm4 0h-2v-4h2v4z\"/>\n",
              "    </g>\n",
              "</svg>\n",
              "  </button>\n",
              "\n",
              "<style>\n",
              "  .colab-df-quickchart {\n",
              "      --bg-color: #E8F0FE;\n",
              "      --fill-color: #1967D2;\n",
              "      --hover-bg-color: #E2EBFA;\n",
              "      --hover-fill-color: #174EA6;\n",
              "      --disabled-fill-color: #AAA;\n",
              "      --disabled-bg-color: #DDD;\n",
              "  }\n",
              "\n",
              "  [theme=dark] .colab-df-quickchart {\n",
              "      --bg-color: #3B4455;\n",
              "      --fill-color: #D2E3FC;\n",
              "      --hover-bg-color: #434B5C;\n",
              "      --hover-fill-color: #FFFFFF;\n",
              "      --disabled-bg-color: #3B4455;\n",
              "      --disabled-fill-color: #666;\n",
              "  }\n",
              "\n",
              "  .colab-df-quickchart {\n",
              "    background-color: var(--bg-color);\n",
              "    border: none;\n",
              "    border-radius: 50%;\n",
              "    cursor: pointer;\n",
              "    display: none;\n",
              "    fill: var(--fill-color);\n",
              "    height: 32px;\n",
              "    padding: 0;\n",
              "    width: 32px;\n",
              "  }\n",
              "\n",
              "  .colab-df-quickchart:hover {\n",
              "    background-color: var(--hover-bg-color);\n",
              "    box-shadow: 0 1px 2px rgba(60, 64, 67, 0.3), 0 1px 3px 1px rgba(60, 64, 67, 0.15);\n",
              "    fill: var(--button-hover-fill-color);\n",
              "  }\n",
              "\n",
              "  .colab-df-quickchart-complete:disabled,\n",
              "  .colab-df-quickchart-complete:disabled:hover {\n",
              "    background-color: var(--disabled-bg-color);\n",
              "    fill: var(--disabled-fill-color);\n",
              "    box-shadow: none;\n",
              "  }\n",
              "\n",
              "  .colab-df-spinner {\n",
              "    border: 2px solid var(--fill-color);\n",
              "    border-color: transparent;\n",
              "    border-bottom-color: var(--fill-color);\n",
              "    animation:\n",
              "      spin 1s steps(1) infinite;\n",
              "  }\n",
              "\n",
              "  @keyframes spin {\n",
              "    0% {\n",
              "      border-color: transparent;\n",
              "      border-bottom-color: var(--fill-color);\n",
              "      border-left-color: var(--fill-color);\n",
              "    }\n",
              "    20% {\n",
              "      border-color: transparent;\n",
              "      border-left-color: var(--fill-color);\n",
              "      border-top-color: var(--fill-color);\n",
              "    }\n",
              "    30% {\n",
              "      border-color: transparent;\n",
              "      border-left-color: var(--fill-color);\n",
              "      border-top-color: var(--fill-color);\n",
              "      border-right-color: var(--fill-color);\n",
              "    }\n",
              "    40% {\n",
              "      border-color: transparent;\n",
              "      border-right-color: var(--fill-color);\n",
              "      border-top-color: var(--fill-color);\n",
              "    }\n",
              "    60% {\n",
              "      border-color: transparent;\n",
              "      border-right-color: var(--fill-color);\n",
              "    }\n",
              "    80% {\n",
              "      border-color: transparent;\n",
              "      border-right-color: var(--fill-color);\n",
              "      border-bottom-color: var(--fill-color);\n",
              "    }\n",
              "    90% {\n",
              "      border-color: transparent;\n",
              "      border-bottom-color: var(--fill-color);\n",
              "    }\n",
              "  }\n",
              "</style>\n",
              "\n",
              "  <script>\n",
              "    async function quickchart(key) {\n",
              "      const quickchartButtonEl =\n",
              "        document.querySelector('#' + key + ' button');\n",
              "      quickchartButtonEl.disabled = true;  // To prevent multiple clicks.\n",
              "      quickchartButtonEl.classList.add('colab-df-spinner');\n",
              "      try {\n",
              "        const charts = await google.colab.kernel.invokeFunction(\n",
              "            'suggestCharts', [key], {});\n",
              "      } catch (error) {\n",
              "        console.error('Error during call to suggestCharts:', error);\n",
              "      }\n",
              "      quickchartButtonEl.classList.remove('colab-df-spinner');\n",
              "      quickchartButtonEl.classList.add('colab-df-quickchart-complete');\n",
              "    }\n",
              "    (() => {\n",
              "      let quickchartButtonEl =\n",
              "        document.querySelector('#df-eb7b9c92-30d0-42a9-8bdb-f7c0378df6c7 button');\n",
              "      quickchartButtonEl.style.display =\n",
              "        google.colab.kernel.accessAllowed ? 'block' : 'none';\n",
              "    })();\n",
              "  </script>\n",
              "</div>\n",
              "    </div>\n",
              "  </div>\n"
            ]
          },
          "metadata": {},
          "execution_count": 3
        }
      ]
    },
    {
      "cell_type": "code",
      "source": [
        "X = dataset.iloc[:, 3:13].values\n",
        "X"
      ],
      "metadata": {
        "colab": {
          "base_uri": "https://localhost:8080/"
        },
        "id": "RZJ-zEzvqEbJ",
        "outputId": "cdaf7794-dc1e-4e3f-b420-06e81e68b4b5"
      },
      "execution_count": null,
      "outputs": [
        {
          "output_type": "execute_result",
          "data": {
            "text/plain": [
              "array([[619, 'France', 'Female', ..., 1, 1, 101348.88],\n",
              "       [608, 'Spain', 'Female', ..., 0, 1, 112542.58],\n",
              "       [502, 'France', 'Female', ..., 1, 0, 113931.57],\n",
              "       ...,\n",
              "       [709, 'France', 'Female', ..., 0, 1, 42085.58],\n",
              "       [772, 'Germany', 'Male', ..., 1, 0, 92888.52],\n",
              "       [792, 'France', 'Female', ..., 1, 0, 38190.78]], dtype=object)"
            ]
          },
          "metadata": {},
          "execution_count": 4
        }
      ]
    },
    {
      "cell_type": "code",
      "source": [
        "y = dataset.iloc[:, 13].values\n",
        "y\n"
      ],
      "metadata": {
        "colab": {
          "base_uri": "https://localhost:8080/"
        },
        "id": "TH8BYEKcqQSA",
        "outputId": "2a50da28-f732-47ae-d61a-4efd3127e08e"
      },
      "execution_count": null,
      "outputs": [
        {
          "output_type": "execute_result",
          "data": {
            "text/plain": [
              "array([1, 0, 1, ..., 1, 1, 0])"
            ]
          },
          "metadata": {},
          "execution_count": 5
        }
      ]
    },
    {
      "cell_type": "code",
      "source": [
        "from sklearn.preprocessing import LabelEncoder\n",
        "labelencoder_X1 = LabelEncoder()\n",
        "X[:,1] = labelencoder_X1.fit_transform(X[:,1])\n"
      ],
      "metadata": {
        "id": "UHnawfHsqYS4"
      },
      "execution_count": null,
      "outputs": []
    },
    {
      "cell_type": "code",
      "source": [
        "labelencoder_X2 = LabelEncoder()\n",
        "X[:,2] = labelencoder_X2.fit_transform(X[:,2])\n",
        "print(X)\n"
      ],
      "metadata": {
        "colab": {
          "base_uri": "https://localhost:8080/"
        },
        "id": "TOfG4jcuqgHQ",
        "outputId": "73106aa1-3965-42eb-cc44-6b074e91d7d1"
      },
      "execution_count": null,
      "outputs": [
        {
          "output_type": "stream",
          "name": "stdout",
          "text": [
            "[[0.0 0 228 ... 1 1 101348.88]\n",
            " [0.0 1 217 ... 0 1 112542.58]\n",
            " [0.0 0 111 ... 1 0 113931.57]\n",
            " ...\n",
            " [0.0 0 318 ... 0 1 42085.58]\n",
            " [1.0 0 381 ... 1 0 92888.52]\n",
            " [0.0 0 401 ... 1 0 38190.78]]\n"
          ]
        }
      ]
    },
    {
      "cell_type": "code",
      "source": [
        "from sklearn.preprocessing import OneHotEncoder\n",
        "from sklearn.compose import ColumnTransformer\n",
        "\n",
        "transformer = ColumnTransformer(\n",
        "    transformers=[\n",
        "        (\"Churn_Modelling\",        # Un nombre de la transformación\n",
        "         OneHotEncoder(categories='auto'), # La clase a la que transformar\n",
        "         [1]            # Las columnas a transformar.\n",
        "         )\n",
        "    ], remainder='passthrough'\n",
        ")\n",
        "\n",
        "X = transformer.fit_transform(X)\n",
        "X\n",
        "\n",
        "X = X[:, 1:]\n",
        "\n",
        "type(X)\n"
      ],
      "metadata": {
        "colab": {
          "base_uri": "https://localhost:8080/"
        },
        "id": "ovl-_Pydqp4Y",
        "outputId": "326efd4e-378c-4b05-ca50-594acf734477"
      },
      "execution_count": null,
      "outputs": [
        {
          "output_type": "execute_result",
          "data": {
            "text/plain": [
              "numpy.ndarray"
            ]
          },
          "metadata": {},
          "execution_count": 8
        }
      ]
    },
    {
      "cell_type": "markdown",
      "source": [],
      "metadata": {
        "id": "TsI97DbSsGQq"
      }
    },
    {
      "cell_type": "code",
      "source": [
        "from sklearn.model_selection import train_test_split\n",
        "X_train, X_test, Y_train, Y_test = train_test_split(X,y, test_size = 0.2, random_state = 0)\n",
        "\n",
        "from sklearn.preprocessing import StandardScaler\n",
        "sX = StandardScaler()\n",
        "X_train = sX.fit_transform(X_train)\n",
        "X_test = sX.transform(X_test)\n"
      ],
      "metadata": {
        "id": "uxRMBlrVsT6a"
      },
      "execution_count": null,
      "outputs": []
    },
    {
      "cell_type": "code",
      "source": [
        "import keras\n",
        "from keras.models import Sequential\n",
        "from keras.layers import Dense\n",
        "from keras.layers import Dropout\n",
        "\n",
        "clf = Sequential()\n",
        "\n",
        "#primera capa\n",
        "clf.add(Dense(units = 6,kernel_initializer = \"uniform\", activation = \"relu\", input_dim = 11))\n",
        "clf.add(Dropout(rate=0.1))\n",
        "\n",
        "#segunda capa\n",
        "clf.add(Dense(units = 6,kernel_initializer = \"uniform\", activation = \"relu\"))\n",
        "clf.add(Dropout(rate=0.1))\n",
        "\n",
        "#segunda capa\n",
        "clf.add(Dense(units = 1,kernel_initializer = \"uniform\", activation = \"sigmoid\"))\n",
        "\n",
        "#compilador de la RNA\n",
        "clf.compile(optimizer = \"adam\", loss = \"binary_crossentropy\", metrics = [\"accuracy\"])\n",
        "\n",
        "clf.fit(X_train, Y_train, batch_size = 10, epochs = 100)\n"
      ],
      "metadata": {
        "colab": {
          "base_uri": "https://localhost:8080/"
        },
        "id": "vAmu85yNufGI",
        "outputId": "38fe531f-c75b-4da3-8324-41f909483439"
      },
      "execution_count": null,
      "outputs": [
        {
          "output_type": "stream",
          "name": "stdout",
          "text": [
            "Epoch 1/100\n",
            "800/800 [==============================] - 9s 3ms/step - loss: 0.4850 - accuracy: 0.7959\n",
            "Epoch 2/100\n",
            "800/800 [==============================] - 1s 2ms/step - loss: 0.4369 - accuracy: 0.7960\n",
            "Epoch 3/100\n",
            "800/800 [==============================] - 1s 2ms/step - loss: 0.4311 - accuracy: 0.7960\n",
            "Epoch 4/100\n",
            "800/800 [==============================] - 1s 2ms/step - loss: 0.4287 - accuracy: 0.7960\n",
            "Epoch 5/100\n",
            "800/800 [==============================] - 2s 2ms/step - loss: 0.4266 - accuracy: 0.7960\n",
            "Epoch 6/100\n",
            "800/800 [==============================] - 2s 2ms/step - loss: 0.4270 - accuracy: 0.8210\n",
            "Epoch 7/100\n",
            "800/800 [==============================] - 1s 2ms/step - loss: 0.4250 - accuracy: 0.8227\n",
            "Epoch 8/100\n",
            "800/800 [==============================] - 1s 2ms/step - loss: 0.4234 - accuracy: 0.8267\n",
            "Epoch 9/100\n",
            "800/800 [==============================] - 1s 2ms/step - loss: 0.4250 - accuracy: 0.8246\n",
            "Epoch 10/100\n",
            "800/800 [==============================] - 1s 2ms/step - loss: 0.4219 - accuracy: 0.8274\n",
            "Epoch 11/100\n",
            "800/800 [==============================] - 1s 2ms/step - loss: 0.4246 - accuracy: 0.8263\n",
            "Epoch 12/100\n",
            "800/800 [==============================] - 1s 2ms/step - loss: 0.4241 - accuracy: 0.8280\n",
            "Epoch 13/100\n",
            "800/800 [==============================] - 1s 2ms/step - loss: 0.4249 - accuracy: 0.8257\n",
            "Epoch 14/100\n",
            "800/800 [==============================] - 2s 2ms/step - loss: 0.4232 - accuracy: 0.8288\n",
            "Epoch 15/100\n",
            "800/800 [==============================] - 2s 2ms/step - loss: 0.4248 - accuracy: 0.8273\n",
            "Epoch 16/100\n",
            "800/800 [==============================] - 1s 2ms/step - loss: 0.4212 - accuracy: 0.8274\n",
            "Epoch 17/100\n",
            "800/800 [==============================] - 1s 2ms/step - loss: 0.4216 - accuracy: 0.8271\n",
            "Epoch 18/100\n",
            "800/800 [==============================] - 1s 2ms/step - loss: 0.4225 - accuracy: 0.8275\n",
            "Epoch 19/100\n",
            "800/800 [==============================] - 1s 2ms/step - loss: 0.4245 - accuracy: 0.8278\n",
            "Epoch 20/100\n",
            "800/800 [==============================] - 1s 2ms/step - loss: 0.4222 - accuracy: 0.8313\n",
            "Epoch 21/100\n",
            "800/800 [==============================] - 1s 2ms/step - loss: 0.4239 - accuracy: 0.8279\n",
            "Epoch 22/100\n",
            "800/800 [==============================] - 2s 2ms/step - loss: 0.4212 - accuracy: 0.8322\n",
            "Epoch 23/100\n",
            "800/800 [==============================] - 2s 2ms/step - loss: 0.4203 - accuracy: 0.8284\n",
            "Epoch 24/100\n",
            "800/800 [==============================] - 2s 2ms/step - loss: 0.4213 - accuracy: 0.8304\n",
            "Epoch 25/100\n",
            "800/800 [==============================] - 1s 2ms/step - loss: 0.4213 - accuracy: 0.8255\n",
            "Epoch 26/100\n",
            "800/800 [==============================] - 1s 2ms/step - loss: 0.4212 - accuracy: 0.8281\n",
            "Epoch 27/100\n",
            "800/800 [==============================] - 1s 2ms/step - loss: 0.4213 - accuracy: 0.8265\n",
            "Epoch 28/100\n",
            "800/800 [==============================] - 1s 2ms/step - loss: 0.4175 - accuracy: 0.8304\n",
            "Epoch 29/100\n",
            "800/800 [==============================] - 1s 2ms/step - loss: 0.4184 - accuracy: 0.8310\n",
            "Epoch 30/100\n",
            "800/800 [==============================] - 1s 2ms/step - loss: 0.4190 - accuracy: 0.8286\n",
            "Epoch 31/100\n",
            "800/800 [==============================] - 2s 2ms/step - loss: 0.4194 - accuracy: 0.8321\n",
            "Epoch 32/100\n",
            "800/800 [==============================] - 2s 2ms/step - loss: 0.4184 - accuracy: 0.8284\n",
            "Epoch 33/100\n",
            "800/800 [==============================] - 1s 2ms/step - loss: 0.4210 - accuracy: 0.8306\n",
            "Epoch 34/100\n",
            "800/800 [==============================] - 1s 2ms/step - loss: 0.4209 - accuracy: 0.8325\n",
            "Epoch 35/100\n",
            "800/800 [==============================] - 1s 2ms/step - loss: 0.4173 - accuracy: 0.8325\n",
            "Epoch 36/100\n",
            "800/800 [==============================] - 1s 2ms/step - loss: 0.4204 - accuracy: 0.8299\n",
            "Epoch 37/100\n",
            "800/800 [==============================] - 1s 2ms/step - loss: 0.4189 - accuracy: 0.8301\n",
            "Epoch 38/100\n",
            "800/800 [==============================] - 1s 2ms/step - loss: 0.4212 - accuracy: 0.8299\n",
            "Epoch 39/100\n",
            "800/800 [==============================] - 1s 2ms/step - loss: 0.4207 - accuracy: 0.8313\n",
            "Epoch 40/100\n",
            "800/800 [==============================] - 2s 2ms/step - loss: 0.4225 - accuracy: 0.8289\n",
            "Epoch 41/100\n",
            "800/800 [==============================] - 2s 2ms/step - loss: 0.4221 - accuracy: 0.8307\n",
            "Epoch 42/100\n",
            "800/800 [==============================] - 1s 2ms/step - loss: 0.4231 - accuracy: 0.8311\n",
            "Epoch 43/100\n",
            "800/800 [==============================] - 1s 2ms/step - loss: 0.4240 - accuracy: 0.8314\n",
            "Epoch 44/100\n",
            "800/800 [==============================] - 1s 2ms/step - loss: 0.4212 - accuracy: 0.8301\n",
            "Epoch 45/100\n",
            "800/800 [==============================] - 1s 2ms/step - loss: 0.4218 - accuracy: 0.8298\n",
            "Epoch 46/100\n",
            "800/800 [==============================] - 1s 2ms/step - loss: 0.4205 - accuracy: 0.8291\n",
            "Epoch 47/100\n",
            "800/800 [==============================] - 1s 2ms/step - loss: 0.4191 - accuracy: 0.8291\n",
            "Epoch 48/100\n",
            "800/800 [==============================] - 1s 2ms/step - loss: 0.4213 - accuracy: 0.8309\n",
            "Epoch 49/100\n",
            "800/800 [==============================] - 2s 2ms/step - loss: 0.4211 - accuracy: 0.8307\n",
            "Epoch 50/100\n",
            "800/800 [==============================] - 2s 2ms/step - loss: 0.4186 - accuracy: 0.8289\n",
            "Epoch 51/100\n",
            "800/800 [==============================] - 1s 2ms/step - loss: 0.4193 - accuracy: 0.8316\n",
            "Epoch 52/100\n",
            "800/800 [==============================] - 1s 2ms/step - loss: 0.4201 - accuracy: 0.8309\n",
            "Epoch 53/100\n",
            "800/800 [==============================] - 1s 2ms/step - loss: 0.4173 - accuracy: 0.8316\n",
            "Epoch 54/100\n",
            "800/800 [==============================] - 1s 2ms/step - loss: 0.4215 - accuracy: 0.8305\n",
            "Epoch 55/100\n",
            "800/800 [==============================] - 1s 2ms/step - loss: 0.4199 - accuracy: 0.8310\n",
            "Epoch 56/100\n",
            "800/800 [==============================] - 1s 2ms/step - loss: 0.4205 - accuracy: 0.8314\n",
            "Epoch 57/100\n",
            "800/800 [==============================] - 1s 2ms/step - loss: 0.4226 - accuracy: 0.8319\n",
            "Epoch 58/100\n",
            "800/800 [==============================] - 2s 2ms/step - loss: 0.4202 - accuracy: 0.8331\n",
            "Epoch 59/100\n",
            "800/800 [==============================] - 2s 2ms/step - loss: 0.4186 - accuracy: 0.8315\n",
            "Epoch 60/100\n",
            "800/800 [==============================] - 2s 2ms/step - loss: 0.4230 - accuracy: 0.8286\n",
            "Epoch 61/100\n",
            "800/800 [==============================] - 2s 2ms/step - loss: 0.4235 - accuracy: 0.8298\n",
            "Epoch 62/100\n",
            "800/800 [==============================] - 1s 2ms/step - loss: 0.4201 - accuracy: 0.8298\n",
            "Epoch 63/100\n",
            "800/800 [==============================] - 1s 2ms/step - loss: 0.4228 - accuracy: 0.8289\n",
            "Epoch 64/100\n",
            "800/800 [==============================] - 1s 2ms/step - loss: 0.4169 - accuracy: 0.8317\n",
            "Epoch 65/100\n",
            "800/800 [==============================] - 1s 2ms/step - loss: 0.4177 - accuracy: 0.8304\n",
            "Epoch 66/100\n",
            "800/800 [==============================] - 2s 2ms/step - loss: 0.4178 - accuracy: 0.8307\n",
            "Epoch 67/100\n",
            "800/800 [==============================] - 2s 2ms/step - loss: 0.4203 - accuracy: 0.8303\n",
            "Epoch 68/100\n",
            "800/800 [==============================] - 1s 2ms/step - loss: 0.4203 - accuracy: 0.8299\n",
            "Epoch 69/100\n",
            "800/800 [==============================] - 1s 2ms/step - loss: 0.4227 - accuracy: 0.8292\n",
            "Epoch 70/100\n",
            "800/800 [==============================] - 1s 2ms/step - loss: 0.4192 - accuracy: 0.8320\n",
            "Epoch 71/100\n",
            "800/800 [==============================] - 1s 2ms/step - loss: 0.4193 - accuracy: 0.8320\n",
            "Epoch 72/100\n",
            "800/800 [==============================] - 1s 2ms/step - loss: 0.4227 - accuracy: 0.8303\n",
            "Epoch 73/100\n",
            "800/800 [==============================] - 2s 2ms/step - loss: 0.4210 - accuracy: 0.8301\n",
            "Epoch 74/100\n",
            "800/800 [==============================] - 4s 4ms/step - loss: 0.4189 - accuracy: 0.8313\n",
            "Epoch 75/100\n",
            "800/800 [==============================] - 1s 2ms/step - loss: 0.4195 - accuracy: 0.8321\n",
            "Epoch 76/100\n",
            "800/800 [==============================] - 1s 2ms/step - loss: 0.4191 - accuracy: 0.8315\n",
            "Epoch 77/100\n",
            "800/800 [==============================] - 1s 2ms/step - loss: 0.4205 - accuracy: 0.8326\n",
            "Epoch 78/100\n",
            "800/800 [==============================] - 1s 2ms/step - loss: 0.4203 - accuracy: 0.8304\n",
            "Epoch 79/100\n",
            "800/800 [==============================] - 1s 2ms/step - loss: 0.4200 - accuracy: 0.8317\n",
            "Epoch 80/100\n",
            "800/800 [==============================] - 1s 2ms/step - loss: 0.4193 - accuracy: 0.8311\n",
            "Epoch 81/100\n",
            "800/800 [==============================] - 1s 2ms/step - loss: 0.4190 - accuracy: 0.8317\n",
            "Epoch 82/100\n",
            "800/800 [==============================] - 2s 2ms/step - loss: 0.4194 - accuracy: 0.8320\n",
            "Epoch 83/100\n",
            "800/800 [==============================] - 2s 2ms/step - loss: 0.4176 - accuracy: 0.8316\n",
            "Epoch 84/100\n",
            "800/800 [==============================] - 1s 2ms/step - loss: 0.4184 - accuracy: 0.8334\n",
            "Epoch 85/100\n",
            "800/800 [==============================] - 1s 2ms/step - loss: 0.4182 - accuracy: 0.8319\n",
            "Epoch 86/100\n",
            "800/800 [==============================] - 1s 2ms/step - loss: 0.4189 - accuracy: 0.8299\n",
            "Epoch 87/100\n",
            "800/800 [==============================] - 1s 2ms/step - loss: 0.4198 - accuracy: 0.8325\n",
            "Epoch 88/100\n",
            "800/800 [==============================] - 1s 2ms/step - loss: 0.4218 - accuracy: 0.8294\n",
            "Epoch 89/100\n",
            "800/800 [==============================] - 1s 2ms/step - loss: 0.4184 - accuracy: 0.8314\n",
            "Epoch 90/100\n",
            "800/800 [==============================] - 1s 2ms/step - loss: 0.4181 - accuracy: 0.8322\n",
            "Epoch 91/100\n",
            "800/800 [==============================] - 2s 2ms/step - loss: 0.4158 - accuracy: 0.8328\n",
            "Epoch 92/100\n",
            "800/800 [==============================] - 2s 2ms/step - loss: 0.4197 - accuracy: 0.8311\n",
            "Epoch 93/100\n",
            "800/800 [==============================] - 1s 2ms/step - loss: 0.4188 - accuracy: 0.8325\n",
            "Epoch 94/100\n",
            "800/800 [==============================] - 1s 2ms/step - loss: 0.4177 - accuracy: 0.8344\n",
            "Epoch 95/100\n",
            "800/800 [==============================] - 1s 2ms/step - loss: 0.4194 - accuracy: 0.8326\n",
            "Epoch 96/100\n",
            "800/800 [==============================] - 1s 2ms/step - loss: 0.4177 - accuracy: 0.8336\n",
            "Epoch 97/100\n",
            "800/800 [==============================] - 1s 2ms/step - loss: 0.4193 - accuracy: 0.8329\n",
            "Epoch 98/100\n",
            "800/800 [==============================] - 1s 2ms/step - loss: 0.4219 - accuracy: 0.8345\n",
            "Epoch 99/100\n",
            "800/800 [==============================] - 1s 2ms/step - loss: 0.4190 - accuracy: 0.8330\n",
            "Epoch 100/100\n",
            "800/800 [==============================] - 2s 2ms/step - loss: 0.4176 - accuracy: 0.8317\n"
          ]
        },
        {
          "output_type": "execute_result",
          "data": {
            "text/plain": [
              "<keras.src.callbacks.History at 0x78447079ae30>"
            ]
          },
          "metadata": {},
          "execution_count": 15
        }
      ]
    },
    {
      "cell_type": "code",
      "source": [
        "%matplotlib inline\n",
        "import itertools\n",
        "import matplotlib.pyplot as plt\n",
        "\n",
        "def plot_confusion_matrix(cm, classes,\n",
        "                          normalize=False,\n",
        "                          title='Confusion matrix',\n",
        "                          cmap=plt.cm.Blues):\n",
        "    \"\"\"\n",
        "    This function prints and plots the confusion matrix.\n",
        "    Normalization can be applied by setting `normalize=True`.\n",
        "    \"\"\"\n",
        "    plt.imshow(cm, interpolation='nearest', cmap=cmap)\n",
        "    plt.title(title)\n",
        "    plt.colorbar()\n",
        "    tick_marks = np.arange(len(classes))\n",
        "    plt.xticks(tick_marks, classes, rotation=45)\n",
        "    plt.yticks(tick_marks, classes)\n",
        "\n",
        "    if normalize:\n",
        "        cm = cm.astype('float') / cm.sum(axis=1)[:, np.newaxis]\n",
        "        print(\"Normalized confusion matrix\")\n",
        "    else:\n",
        "        print('Confusion matrix, without normalization')\n",
        "\n",
        "    print(cm)\n",
        "\n",
        "    thresh = cm.max() / 2.\n",
        "    for i, j in itertools.product(range(cm.shape[0]), range(cm.shape[1])):\n",
        "        plt.text(j, i, cm[i, j],\n",
        "                 horizontalalignment=\"center\",\n",
        "                 color=\"white\" if cm[i, j] > thresh else \"black\")\n",
        "\n",
        "    plt.tight_layout()\n",
        "    plt.ylabel('True label')\n",
        "    plt.xlabel('Predicted label')\n"
      ],
      "metadata": {
        "id": "aJN2e-KoxMOl"
      },
      "execution_count": null,
      "outputs": []
    },
    {
      "cell_type": "code",
      "source": [
        "#predecir\n",
        "y_pred = clf.predict(X_test)\n",
        "y_pred\n",
        "\n",
        "y_pred = (y_pred>0.5)\n",
        "y_pred\n"
      ],
      "metadata": {
        "colab": {
          "base_uri": "https://localhost:8080/"
        },
        "id": "7U45LeplxUF_",
        "outputId": "ab8d9b20-1145-4dac-d5fa-9c38831a262d"
      },
      "execution_count": null,
      "outputs": [
        {
          "output_type": "stream",
          "name": "stdout",
          "text": [
            "63/63 [==============================] - 0s 2ms/step\n"
          ]
        },
        {
          "output_type": "execute_result",
          "data": {
            "text/plain": [
              "array([[False],\n",
              "       [False],\n",
              "       [False],\n",
              "       ...,\n",
              "       [False],\n",
              "       [False],\n",
              "       [False]])"
            ]
          },
          "metadata": {},
          "execution_count": 17
        }
      ]
    },
    {
      "cell_type": "code",
      "source": [
        "# Elaborar una matriz de confusión\n",
        "from sklearn.metrics import confusion_matrix\n",
        "cm = confusion_matrix(Y_test, y_pred)\n",
        "print((cm[0][0]+cm[1][1])/cm.sum())\n"
      ],
      "metadata": {
        "colab": {
          "base_uri": "https://localhost:8080/"
        },
        "id": "0FumC60vxZhy",
        "outputId": "434bdb0e-5b15-438d-f878-fdcd6804f47f"
      },
      "execution_count": null,
      "outputs": [
        {
          "output_type": "stream",
          "name": "stdout",
          "text": [
            "0.837\n"
          ]
        }
      ]
    },
    {
      "cell_type": "code",
      "source": [
        "plot_confusion_matrix(cm, ['Si deja el banco','No deja el banco'],title='Matriz de confusión')"
      ],
      "metadata": {
        "colab": {
          "base_uri": "https://localhost:8080/",
          "height": 558
        },
        "id": "FL9HRoJ_xcuA",
        "outputId": "76e869f3-c767-4843-cbfa-7b96b4eb0705"
      },
      "execution_count": null,
      "outputs": [
        {
          "output_type": "stream",
          "name": "stdout",
          "text": [
            "Confusion matrix, without normalization\n",
            "[[1549   46]\n",
            " [ 280  125]]\n"
          ]
        },
        {
          "output_type": "display_data",
          "data": {
            "text/plain": [
              "<Figure size 640x480 with 2 Axes>"
            ],
            "image/png": "[encoded data removed]"
          },
          "metadata": {}
        }
      ]
    }
  ]
}